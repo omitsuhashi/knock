{
 "cells": [
  {
   "cell_type": "code",
   "execution_count": 10,
   "outputs": [],
   "source": [
    "# 82\n",
    "import cv2\n",
    "\n",
    "from concurrent.futures import ThreadPoolExecutor\n",
    "from pathlib import Path\n",
    "\n",
    "def read_mov(path: Path, save_snapshot: bool = False, debug: bool = False):\n",
    "    cap = cv2.VideoCapture(str(path))\n",
    "    num = 0\n",
    "    snapshot_filename = '{}.jpg'\n",
    "    snapshot_path = path.parent.joinpath('snapshot')\n",
    "    snapshot_path.mkdir(exist_ok=True)\n",
    "\n",
    "    while cap.isOpened():\n",
    "        ret, frame = cap.read()\n",
    "        if not ret:\n",
    "            break\n",
    "        if debug:\n",
    "            cv2.imshow('frame', frame)\n",
    "        if save_snapshot:\n",
    "            filename = snapshot_filename.format(num)\n",
    "            cv2.imwrite(str(snapshot_path.joinpath(filename)), frame)\n",
    "        key = cv2.waitKey(5)\n",
    "        if key == ord('q'):\n",
    "            break\n",
    "        num += 1\n",
    "\n",
    "    cap.release()\n",
    "    cv2.destroyAllWindows()\n"
   ],
   "metadata": {
    "collapsed": false,
    "pycharm": {
     "name": "#%%\n"
    }
   }
  },
  {
   "cell_type": "code",
   "execution_count": 11,
   "outputs": [],
   "source": [
    "read_mov(Path.cwd().parent.joinpath('data', 'mov', 'mov01.avi'))\n"
   ],
   "metadata": {
    "collapsed": false,
    "pycharm": {
     "name": "#%%\n"
    }
   }
  }
 ],
 "metadata": {
  "kernelspec": {
   "display_name": "Python 3",
   "language": "python",
   "name": "python3"
  },
  "language_info": {
   "codemirror_mode": {
    "name": "ipython",
    "version": 2
   },
   "file_extension": ".py",
   "mimetype": "text/x-python",
   "name": "python",
   "nbconvert_exporter": "python",
   "pygments_lexer": "ipython2",
   "version": "2.7.6"
  }
 },
 "nbformat": 4,
 "nbformat_minor": 0
}